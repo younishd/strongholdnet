{
 "cells": [
  {
   "cell_type": "code",
   "execution_count": 1,
   "id": "12502776-87d7-412c-b120-975774862a85",
   "metadata": {},
   "outputs": [],
   "source": [
    "import pandas as pd\n",
    "import numpy as np\n",
    "import tensorflow as tf\n",
    "from tensorflow import keras as K\n",
    "from sklearn.model_selection import train_test_split"
   ]
  },
  {
   "cell_type": "code",
   "execution_count": 2,
   "id": "50fb7442-705b-4229-9d08-969878cd0e7c",
   "metadata": {},
   "outputs": [],
   "source": [
    "df = pd.read_csv('100k_dataset.csv', delimiter=' ')"
   ]
  },
  {
   "cell_type": "code",
   "execution_count": 3,
   "id": "b0ec00f6-a49d-4833-8024-e0528fbcfc91",
   "metadata": {},
   "outputs": [
    {
     "data": {
      "text/html": [
       "<div>\n",
       "<style scoped>\n",
       "    .dataframe tbody tr th:only-of-type {\n",
       "        vertical-align: middle;\n",
       "    }\n",
       "\n",
       "    .dataframe tbody tr th {\n",
       "        vertical-align: top;\n",
       "    }\n",
       "\n",
       "    .dataframe thead th {\n",
       "        text-align: right;\n",
       "    }\n",
       "</style>\n",
       "<table border=\"1\" class=\"dataframe\">\n",
       "  <thead>\n",
       "    <tr style=\"text-align: right;\">\n",
       "      <th></th>\n",
       "      <th>depth</th>\n",
       "      <th>prev_room</th>\n",
       "      <th>prev_exit</th>\n",
       "      <th>room</th>\n",
       "      <th>exit_0</th>\n",
       "      <th>exit_1</th>\n",
       "      <th>exit_2</th>\n",
       "      <th>exit_3</th>\n",
       "      <th>exit_4</th>\n",
       "      <th>exit_portal</th>\n",
       "    </tr>\n",
       "  </thead>\n",
       "  <tbody>\n",
       "    <tr>\n",
       "      <th>0</th>\n",
       "      <td>0</td>\n",
       "      <td>Start</td>\n",
       "      <td>0</td>\n",
       "      <td>FiveWayCrossing</td>\n",
       "      <td>Corridor</td>\n",
       "      <td>LeftTurn</td>\n",
       "      <td>None</td>\n",
       "      <td>Corridor</td>\n",
       "      <td>Stairs</td>\n",
       "      <td>0</td>\n",
       "    </tr>\n",
       "    <tr>\n",
       "      <th>1</th>\n",
       "      <td>0</td>\n",
       "      <td>Start</td>\n",
       "      <td>0</td>\n",
       "      <td>FiveWayCrossing</td>\n",
       "      <td>Corridor</td>\n",
       "      <td>RightTurn</td>\n",
       "      <td>None</td>\n",
       "      <td>Corridor</td>\n",
       "      <td>RightTurn</td>\n",
       "      <td>0</td>\n",
       "    </tr>\n",
       "    <tr>\n",
       "      <th>2</th>\n",
       "      <td>2</td>\n",
       "      <td>RightTurn</td>\n",
       "      <td>0</td>\n",
       "      <td>Corridor</td>\n",
       "      <td>SquareRoom</td>\n",
       "      <td>None</td>\n",
       "      <td>Corridor</td>\n",
       "      <td>None</td>\n",
       "      <td>None</td>\n",
       "      <td>0</td>\n",
       "    </tr>\n",
       "    <tr>\n",
       "      <th>3</th>\n",
       "      <td>0</td>\n",
       "      <td>Start</td>\n",
       "      <td>0</td>\n",
       "      <td>FiveWayCrossing</td>\n",
       "      <td>Stairs</td>\n",
       "      <td>None</td>\n",
       "      <td>None</td>\n",
       "      <td>None</td>\n",
       "      <td>Corridor</td>\n",
       "      <td>4</td>\n",
       "    </tr>\n",
       "    <tr>\n",
       "      <th>4</th>\n",
       "      <td>1</td>\n",
       "      <td>FiveWayCrossing</td>\n",
       "      <td>4</td>\n",
       "      <td>Corridor</td>\n",
       "      <td>Corridor</td>\n",
       "      <td>SpiralStaircase</td>\n",
       "      <td>Stairs</td>\n",
       "      <td>None</td>\n",
       "      <td>None</td>\n",
       "      <td>0</td>\n",
       "    </tr>\n",
       "  </tbody>\n",
       "</table>\n",
       "</div>"
      ],
      "text/plain": [
       "   depth        prev_room  prev_exit             room      exit_0  \\\n",
       "0      0            Start          0  FiveWayCrossing    Corridor   \n",
       "1      0            Start          0  FiveWayCrossing    Corridor   \n",
       "2      2        RightTurn          0         Corridor  SquareRoom   \n",
       "3      0            Start          0  FiveWayCrossing      Stairs   \n",
       "4      1  FiveWayCrossing          4         Corridor    Corridor   \n",
       "\n",
       "            exit_1    exit_2    exit_3     exit_4  exit_portal  \n",
       "0         LeftTurn      None  Corridor     Stairs            0  \n",
       "1        RightTurn      None  Corridor  RightTurn            0  \n",
       "2             None  Corridor      None       None            0  \n",
       "3             None      None      None   Corridor            4  \n",
       "4  SpiralStaircase    Stairs      None       None            0  "
      ]
     },
     "execution_count": 3,
     "metadata": {},
     "output_type": "execute_result"
    }
   ],
   "source": [
    "df.head()"
   ]
  },
  {
   "cell_type": "code",
   "execution_count": 4,
   "id": "f7174e3d-f75f-43bc-9d38-16cf0877f897",
   "metadata": {},
   "outputs": [],
   "source": [
    "# one hot\n",
    "for col in [\n",
    "        'prev_room',\n",
    "        'prev_exit',\n",
    "        'room',\n",
    "        'exit_0',\n",
    "        'exit_1',\n",
    "        'exit_2',\n",
    "        'exit_3',\n",
    "        'exit_4']:\n",
    "    df = pd.concat([df, pd.get_dummies(df[col], prefix=col)], axis=1)\n",
    "    df.drop(col, axis=1, inplace=True)"
   ]
  },
  {
   "cell_type": "code",
   "execution_count": 5,
   "id": "95e25bbe-02f6-483a-bc0a-db4e5c27afe3",
   "metadata": {},
   "outputs": [],
   "source": [
    "X_train, X_test, y_train, y_test = train_test_split(\n",
    "        df.drop('exit_portal', axis=1),\n",
    "        df['exit_portal'],\n",
    "        test_size=0.1,\n",
    "        random_state=1337)"
   ]
  },
  {
   "cell_type": "code",
   "execution_count": 6,
   "id": "9722c3f1-0d3a-4737-85a0-395256054cb6",
   "metadata": {},
   "outputs": [
    {
     "name": "stdout",
     "output_type": "stream",
     "text": [
      "X_train: (219037, 79)\n",
      "y_train: (219037,)\n",
      "X_test: (24338, 79)\n",
      "y_test: (24338,)\n"
     ]
    }
   ],
   "source": [
    "print(\"X_train:\", X_train.shape)\n",
    "print(\"y_train:\", y_train.shape)\n",
    "print(\"X_test:\", X_test.shape)\n",
    "print(\"y_test:\", y_test.shape)"
   ]
  },
  {
   "cell_type": "code",
   "execution_count": 7,
   "id": "ce167992-a8ee-436b-9b92-de2f821700dc",
   "metadata": {},
   "outputs": [],
   "source": [
    "model = K.Sequential()\n",
    "model.add(K.layers.InputLayer(input_shape=(X_train.shape[1],)))\n",
    "model.add(K.layers.Dense(128, activation='relu'))\n",
    "model.add(K.layers.Dense(64, activation='relu'))\n",
    "model.add(K.layers.Dense(5, activation='softmax'))\n",
    "model.compile(\n",
    "        optimizer='adam',\n",
    "        loss=K.losses.SparseCategoricalCrossentropy(),\n",
    "        metrics=['accuracy'])"
   ]
  },
  {
   "cell_type": "code",
   "execution_count": 8,
   "id": "0937e1a3-85b3-47b0-b0e0-e80fb0682d68",
   "metadata": {},
   "outputs": [
    {
     "name": "stdout",
     "output_type": "stream",
     "text": [
      "Epoch 1/10\n",
      "6845/6845 [==============================] - 4s 488us/step - loss: 0.4169 - accuracy: 0.7890\n",
      "Epoch 2/10\n",
      "6845/6845 [==============================] - 3s 497us/step - loss: 0.3992 - accuracy: 0.7960\n",
      "Epoch 3/10\n",
      "6845/6845 [==============================] - 3s 498us/step - loss: 0.3966 - accuracy: 0.7967\n",
      "Epoch 4/10\n",
      "6845/6845 [==============================] - 3s 492us/step - loss: 0.3950 - accuracy: 0.7976\n",
      "Epoch 5/10\n",
      "6845/6845 [==============================] - 3s 506us/step - loss: 0.3935 - accuracy: 0.7983\n",
      "Epoch 6/10\n",
      "6845/6845 [==============================] - 3s 485us/step - loss: 0.3924 - accuracy: 0.7996\n",
      "Epoch 7/10\n",
      "6845/6845 [==============================] - 3s 493us/step - loss: 0.3917 - accuracy: 0.8001\n",
      "Epoch 8/10\n",
      "6845/6845 [==============================] - 3s 505us/step - loss: 0.3904 - accuracy: 0.8007\n",
      "Epoch 9/10\n",
      "6845/6845 [==============================] - 3s 501us/step - loss: 0.3897 - accuracy: 0.8014\n",
      "Epoch 10/10\n",
      "6845/6845 [==============================] - 3s 482us/step - loss: 0.3888 - accuracy: 0.8018\n"
     ]
    },
    {
     "data": {
      "text/plain": [
       "<tensorflow.python.keras.callbacks.History at 0x7f7472217670>"
      ]
     },
     "execution_count": 8,
     "metadata": {},
     "output_type": "execute_result"
    }
   ],
   "source": [
    "model.fit(X_train, y_train, epochs=10)"
   ]
  },
  {
   "cell_type": "code",
   "execution_count": 9,
   "id": "2110549f-58f7-4ca3-96e0-b121c30be40a",
   "metadata": {},
   "outputs": [],
   "source": [
    "model.save(\"shnet_1.keras\")"
   ]
  },
  {
   "cell_type": "code",
   "execution_count": 10,
   "id": "9f6e6995-3a88-406b-a5df-051b0d448acf",
   "metadata": {},
   "outputs": [
    {
     "name": "stdout",
     "output_type": "stream",
     "text": [
      "761/761 [==============================] - 0s 304us/step - loss: 0.4040 - accuracy: 0.7946\n"
     ]
    }
   ],
   "source": [
    "results = model.evaluate(X_test, y_test)"
   ]
  },
  {
   "cell_type": "code",
   "execution_count": null,
   "id": "3798f1fe-bdbd-4878-9470-31b7bcde89d5",
   "metadata": {},
   "outputs": [],
   "source": []
  }
 ],
 "metadata": {
  "kernelspec": {
   "display_name": "Python 3",
   "language": "python",
   "name": "python3"
  },
  "language_info": {
   "codemirror_mode": {
    "name": "ipython",
    "version": 3
   },
   "file_extension": ".py",
   "mimetype": "text/x-python",
   "name": "python",
   "nbconvert_exporter": "python",
   "pygments_lexer": "ipython3",
   "version": "3.9.5"
  }
 },
 "nbformat": 4,
 "nbformat_minor": 5
}
